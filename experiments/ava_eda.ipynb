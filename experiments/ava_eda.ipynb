{
 "cells": [
  {
   "cell_type": "code",
   "execution_count": 2,
   "metadata": {},
   "outputs": [],
   "source": [
    "from aestheval.data.datasets import AVADataset\n",
    "import torch\n",
    "from tqdm import tqdm\n",
    "SPLITS = ('train', 'val', 'test')\n",
    "\n",
    "ava_dataset = [AVADataset(split, comments_path= \"../data/ava\", load_images=False) for split in SPLITS]"
   ]
  },
  {
   "cell_type": "code",
   "execution_count": 3,
   "metadata": {},
   "outputs": [],
   "source": [
    "dataset = torch.utils.data.ConcatDataset(ava_dataset)"
   ]
  },
  {
   "cell_type": "code",
   "execution_count": 16,
   "metadata": {},
   "outputs": [],
   "source": [
    "ncomments=[]\n",
    "nwords = []\n",
    "for im, d in dataset:\n",
    "    # print(d['comments'])\n",
    "    ncomments.append(len(d['comments']))\n",
    "    nwords.extend([len(x.split()) for x in d['comments']])"
   ]
  },
  {
   "cell_type": "code",
   "execution_count": 18,
   "metadata": {},
   "outputs": [
    {
     "data": {
      "text/plain": [
       "253961"
      ]
     },
     "execution_count": 18,
     "metadata": {},
     "output_type": "execute_result"
    }
   ],
   "source": [
    "len(dataset)"
   ]
  },
  {
   "cell_type": "code",
   "execution_count": 17,
   "metadata": {},
   "outputs": [
    {
     "data": {
      "text/plain": [
       "14.182339020558274"
      ]
     },
     "execution_count": 17,
     "metadata": {},
     "output_type": "execute_result"
    }
   ],
   "source": [
    "import statistics as st\n",
    "st.mean(ncomments)"
   ]
  },
  {
   "cell_type": "code",
   "execution_count": 19,
   "metadata": {},
   "outputs": [
    {
     "data": {
      "text/plain": [
       "14.621696442379159"
      ]
     },
     "execution_count": 19,
     "metadata": {},
     "output_type": "execute_result"
    }
   ],
   "source": [
    "st.mean(nwords)"
   ]
  },
  {
   "cell_type": "code",
   "execution_count": 3,
   "metadata": {},
   "outputs": [
    {
     "name": "stderr",
     "output_type": "stream",
     "text": [
      "100%|██████████| 253961/253961 [00:00<00:00, 1482493.87it/s]\n"
     ]
    }
   ],
   "source": [
    "gt_scores, pred_scores = zip(*[(data['im_score'], data['mean_score']) for _, data in tqdm(dataset)])\n",
    "\n"
   ]
  },
  {
   "cell_type": "code",
   "execution_count": 4,
   "metadata": {},
   "outputs": [
    {
     "name": "stdout",
     "output_type": "stream",
     "text": [
      "SRCC = SpearmanrResult(correlation=0.6418159938404643, pvalue=0.0)\n",
      "MSE = 5.9397\n",
      "LCC = (0.6424464694494703, 0.0)\n"
     ]
    }
   ],
   "source": [
    "from scipy import stats\n",
    "import sklearn.metrics as sm\n",
    "\n",
    "pred_scores = [score*10 for score in pred_scores]\n",
    "srcc = stats.spearmanr(gt_scores, pred_scores)\n",
    "print(\"SRCC =\", srcc)\n",
    "mse = round(sm.mean_squared_error(gt_scores, pred_scores), 4)\n",
    "print(\"MSE =\", mse)\n",
    "lcc = stats.pearsonr(gt_scores, pred_scores)\n",
    "print(\"LCC =\", lcc)"
   ]
  },
  {
   "cell_type": "code",
   "execution_count": 5,
   "metadata": {},
   "outputs": [
    {
     "data": {
      "text/html": [
       "<div>\n",
       "<style scoped>\n",
       "    .dataframe tbody tr th:only-of-type {\n",
       "        vertical-align: middle;\n",
       "    }\n",
       "\n",
       "    .dataframe tbody tr th {\n",
       "        vertical-align: top;\n",
       "    }\n",
       "\n",
       "    .dataframe thead th {\n",
       "        text-align: right;\n",
       "    }\n",
       "</style>\n",
       "<table border=\"1\" class=\"dataframe\">\n",
       "  <thead>\n",
       "    <tr style=\"text-align: right;\">\n",
       "      <th></th>\n",
       "      <th>Ground truth</th>\n",
       "      <th>Predicted score</th>\n",
       "    </tr>\n",
       "  </thead>\n",
       "  <tbody>\n",
       "    <tr>\n",
       "      <th>0</th>\n",
       "      <td>6.112903</td>\n",
       "      <td>7.937589</td>\n",
       "    </tr>\n",
       "    <tr>\n",
       "      <th>1</th>\n",
       "      <td>6.593750</td>\n",
       "      <td>8.828905</td>\n",
       "    </tr>\n",
       "    <tr>\n",
       "      <th>2</th>\n",
       "      <td>5.796875</td>\n",
       "      <td>9.539987</td>\n",
       "    </tr>\n",
       "    <tr>\n",
       "      <th>3</th>\n",
       "      <td>5.040984</td>\n",
       "      <td>9.905155</td>\n",
       "    </tr>\n",
       "    <tr>\n",
       "      <th>4</th>\n",
       "      <td>5.943548</td>\n",
       "      <td>9.696896</td>\n",
       "    </tr>\n",
       "    <tr>\n",
       "      <th>...</th>\n",
       "      <td>...</td>\n",
       "      <td>...</td>\n",
       "    </tr>\n",
       "    <tr>\n",
       "      <th>253956</th>\n",
       "      <td>4.439024</td>\n",
       "      <td>4.308670</td>\n",
       "    </tr>\n",
       "    <tr>\n",
       "      <th>253957</th>\n",
       "      <td>5.814050</td>\n",
       "      <td>7.860226</td>\n",
       "    </tr>\n",
       "    <tr>\n",
       "      <th>253958</th>\n",
       "      <td>5.344398</td>\n",
       "      <td>7.022425</td>\n",
       "    </tr>\n",
       "    <tr>\n",
       "      <th>253959</th>\n",
       "      <td>5.893701</td>\n",
       "      <td>9.159501</td>\n",
       "    </tr>\n",
       "    <tr>\n",
       "      <th>253960</th>\n",
       "      <td>6.675573</td>\n",
       "      <td>9.476929</td>\n",
       "    </tr>\n",
       "  </tbody>\n",
       "</table>\n",
       "<p>253961 rows × 2 columns</p>\n",
       "</div>"
      ],
      "text/plain": [
       "        Ground truth  Predicted score\n",
       "0           6.112903         7.937589\n",
       "1           6.593750         8.828905\n",
       "2           5.796875         9.539987\n",
       "3           5.040984         9.905155\n",
       "4           5.943548         9.696896\n",
       "...              ...              ...\n",
       "253956      4.439024         4.308670\n",
       "253957      5.814050         7.860226\n",
       "253958      5.344398         7.022425\n",
       "253959      5.893701         9.159501\n",
       "253960      6.675573         9.476929\n",
       "\n",
       "[253961 rows x 2 columns]"
      ]
     },
     "execution_count": 5,
     "metadata": {},
     "output_type": "execute_result"
    }
   ],
   "source": [
    "import pandas as pd\n",
    "df = pd.DataFrame({\n",
    "    \"Ground truth\": gt_scores,\n",
    "    \"Predicted score\": pred_scores\n",
    "    })\n",
    "df"
   ]
  },
  {
   "cell_type": "code",
   "execution_count": 7,
   "metadata": {},
   "outputs": [
    {
     "data": {
      "image/png": "[encoded data removed]",
      "text/plain": [
       "<Figure size 500x500 with 1 Axes>"
      ]
     },
     "metadata": {},
     "output_type": "display_data"
    }
   ],
   "source": [
    "import seaborn as sns\n",
    "ax = sns.lmplot(x=\"Ground truth\", y=\"Predicted score\", data=df, x_bins=1000)\n"
   ]
  },
  {
   "cell_type": "code",
   "execution_count": null,
   "metadata": {},
   "outputs": [],
   "source": []
  }
 ],
 "metadata": {
  "interpreter": {
   "hash": "af2568b77c9ec3f1a0d64b3461c66b289f4d544951ee8b1306f1fdd362419001"
  },
  "kernelspec": {
   "display_name": "Python 3.10.4 ('aestheval')",
   "language": "python",
   "name": "python3"
  },
  "language_info": {
   "codemirror_mode": {
    "name": "ipython",
    "version": 3
   },
   "file_extension": ".py",
   "mimetype": "text/x-python",
   "name": "python",
   "nbconvert_exporter": "python",
   "pygments_lexer": "ipython3",
   "version": "3.10.4"
  },
  "orig_nbformat": 4
 },
 "nbformat": 4,
 "nbformat_minor": 2
}
