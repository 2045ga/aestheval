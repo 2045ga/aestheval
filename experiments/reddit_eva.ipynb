{
 "cells": [
  {
   "cell_type": "code",
   "execution_count": 1,
   "metadata": {},
   "outputs": [],
   "source": [
    "from aestheval.data.datasets import Reddit\n",
    "import torch\n",
    "SPLITS = ('train', 'validation', 'test')\n",
    "\n",
    "reddit_dataset = [Reddit(split, data_path = \"../data/reddit/\",split_path= \"../aestheval/data/datasets/datasplits/reddit/\") for split in SPLITS]"
   ]
  },
  {
   "cell_type": "code",
   "execution_count": 2,
   "metadata": {},
   "outputs": [],
   "source": [
    "dataset = torch.utils.data.ConcatDataset(reddit_dataset)"
   ]
  },
  {
   "cell_type": "code",
   "execution_count": 3,
   "metadata": {},
   "outputs": [],
   "source": [
    "for a in dataset:\n",
    "    d=a\n",
    "    break"
   ]
  },
  {
   "cell_type": "code",
   "execution_count": 4,
   "metadata": {},
   "outputs": [
    {
     "data": {
      "text/plain": [
       "(tensor([[[0.0588, 0.0588, 0.0588,  ..., 0.0235, 0.0235, 0.0275],\n",
       "          [0.0588, 0.0588, 0.0588,  ..., 0.0235, 0.0235, 0.0235],\n",
       "          [0.0588, 0.0588, 0.0588,  ..., 0.0235, 0.0235, 0.0196],\n",
       "          ...,\n",
       "          [0.0863, 0.0863, 0.0824,  ..., 0.1020, 0.1020, 0.1020],\n",
       "          [0.0902, 0.0902, 0.0863,  ..., 0.1020, 0.1020, 0.1020],\n",
       "          [0.0941, 0.0902, 0.0863,  ..., 0.1020, 0.1020, 0.1020]],\n",
       " \n",
       "         [[0.0588, 0.0588, 0.0588,  ..., 0.0235, 0.0235, 0.0275],\n",
       "          [0.0588, 0.0588, 0.0588,  ..., 0.0235, 0.0235, 0.0235],\n",
       "          [0.0588, 0.0588, 0.0588,  ..., 0.0235, 0.0235, 0.0196],\n",
       "          ...,\n",
       "          [0.0863, 0.0863, 0.0824,  ..., 0.1020, 0.1020, 0.1020],\n",
       "          [0.0902, 0.0902, 0.0863,  ..., 0.1020, 0.1020, 0.1020],\n",
       "          [0.0941, 0.0902, 0.0863,  ..., 0.1020, 0.1020, 0.1020]],\n",
       " \n",
       "         [[0.0588, 0.0588, 0.0588,  ..., 0.0235, 0.0235, 0.0275],\n",
       "          [0.0588, 0.0588, 0.0588,  ..., 0.0235, 0.0235, 0.0235],\n",
       "          [0.0588, 0.0588, 0.0588,  ..., 0.0235, 0.0235, 0.0196],\n",
       "          ...,\n",
       "          [0.0863, 0.0863, 0.0824,  ..., 0.1020, 0.1020, 0.1020],\n",
       "          [0.0902, 0.0902, 0.0863,  ..., 0.1020, 0.1020, 0.1020],\n",
       "          [0.0941, 0.0902, 0.0863,  ..., 0.1020, 0.1020, 0.1020]]]),\n",
       " {'im_paths': '2016/photocritique/images/2016-photocritique-submission_5es9dz-image.jpeg',\n",
       "  'aspect_prediction': [{'general_impression': 0.001795814954675734,\n",
       "    'subject_of_photo': 0.001765029621310532,\n",
       "    'composition': 0.0014192394446581602,\n",
       "    'use_of_camera': 0.8214437961578369,\n",
       "    'depth_of_field': 0.055143631994724274,\n",
       "    'color_lighting': 0.08144515752792358,\n",
       "    'focus': 0.036987319588661194},\n",
       "   {'general_impression': 0.714972198009491,\n",
       "    'subject_of_photo': 0.029236149042844772,\n",
       "    'composition': 0.18849892914295197,\n",
       "    'use_of_camera': 0.012913161888718605,\n",
       "    'depth_of_field': 0.0032826876267790794,\n",
       "    'color_lighting': 0.04701673984527588,\n",
       "    'focus': 0.00408020569011569},\n",
       "   {'general_impression': 0.002669760026037693,\n",
       "    'subject_of_photo': 0.0023476271890103817,\n",
       "    'composition': 0.0018002612050622702,\n",
       "    'use_of_camera': 0.04248420149087906,\n",
       "    'depth_of_field': 0.0033885110169649124,\n",
       "    'color_lighting': 0.932209849357605,\n",
       "    'focus': 0.01509969774633646}],\n",
       "  'first_level_comments_values': ['Why f18? You could have a cleaner/sharper image with the aperture open more. As for the picture it has no drama, the subject is just evenly lit, and there is very little contrast between the dress and background.',\n",
       "   \"I think this is pretty good.  I like the fact that you managed to pull off symmetry along the diagonal axis, and the contrast between the light skin and the neutral grey of the background is striking without being harsh. \\n\\nI might wish for a little bit more richness or contrast in the tones of the tutu, but I think it was the right call not making the dress contrast with the background too much and instead putting all the tension into the model's skintone versus the background.\\n\\nIf I had one criticism, it's that her face isn't doing anything interesting, and it looks tense without expressing any real emotion. That's more a model issue than a photographer issue, though of course it's your job to spot it and work with the model to fix it.\\n\\nF18, though? Why? Was it because you wanted to get a little bit of imperfect soft focus glow? I guess I can see that, though I don't personally like that look much.\\n\\nOverall though, it's a really nice shot. I think she'd be happy to have that as her portrait in a theater's seasonal program or something.\",\n",
       "   \"She seems a little blown out, to me personally. There isn't a lot of depth or detail to her skin tone. I am sure she is pale, with the black outfit makes it difficult. Maybe if you burn in her face a little, or if you try agian, adjust the lighting so there is a little more shadow on her face.\"]})"
      ]
     },
     "execution_count": 4,
     "metadata": {},
     "output_type": "execute_result"
    }
   ],
   "source": [
    "d"
   ]
  },
  {
   "cell_type": "code",
   "execution_count": null,
   "metadata": {},
   "outputs": [],
   "source": [
    "import pandas as pd\n",
    "\n",
    "pd.Series([data['mean_score'] for _, data in dataset]).plot(kind='hist')\n",
    "\n"
   ]
  }
 ],
 "metadata": {
  "interpreter": {
   "hash": "af2568b77c9ec3f1a0d64b3461c66b289f4d544951ee8b1306f1fdd362419001"
  },
  "kernelspec": {
   "display_name": "Python 3.10.4 ('aestheval')",
   "language": "python",
   "name": "python3"
  },
  "language_info": {
   "codemirror_mode": {
    "name": "ipython",
    "version": 3
   },
   "file_extension": ".py",
   "mimetype": "text/x-python",
   "name": "python",
   "nbconvert_exporter": "python",
   "pygments_lexer": "ipython3",
   "version": "3.10.4"
  },
  "orig_nbformat": 4
 },
 "nbformat": 4,
 "nbformat_minor": 2
}
