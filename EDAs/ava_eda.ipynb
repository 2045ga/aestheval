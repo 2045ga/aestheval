{
 "cells": [
  {
   "cell_type": "code",
   "execution_count": 7,
   "metadata": {},
   "outputs": [],
   "source": [
    "from aestheval.data.datasets import AVA\n",
    "import torch\n",
    "from tqdm import tqdm\n",
    "SPLITS = ('train', 'validation', 'test')\n",
    "\n",
    "ava_dataset = [AVA(split, dataset_path=\"/media/data-storage/datasets/ava\", load_images=False) for split in SPLITS]"
   ]
  },
  {
   "cell_type": "code",
   "execution_count": 8,
   "metadata": {},
   "outputs": [],
   "source": [
    "dataset = torch.utils.data.ConcatDataset(ava_dataset)"
   ]
  },
  {
   "cell_type": "code",
   "execution_count": 9,
   "metadata": {},
   "outputs": [
    {
     "data": {
      "text/plain": [
       "(None,\n",
       " {'im_id': '953417',\n",
       "  'im_score': 6.11290322581,\n",
       "  'query': 1396,\n",
       "  'im_path': '/media/data-storage/datasets/ava/images/953417.jpg',\n",
       "  'comments': [\"6.1! Nice! You have mad macro skills! You'll notice I don't have any... because I suck at it.\",\n",
       "   'Frog with attitude; love it.  Reminds me of Jabba of Star Wars, lol. (voted earlier)',\n",
       "   'he does look kind of lonely. Funky colors.',\n",
       "   \"No thanks, he is quite blue is'nt he, I like this.\",\n",
       "   'great shot!',\n",
       "   'Very cute!',\n",
       "   'Funny shot. Very nice perspective and lovely colors.'],\n",
       "  'sentiment': {'0': {'Negative': 0.3295336663722992,\n",
       "    'Neutral': 0.2320113182067871,\n",
       "    'Positive': 0.4384550452232361},\n",
       "   '1': {'Negative': 0.005600472446531057,\n",
       "    'Neutral': 0.03543514013290405,\n",
       "    'Positive': 0.9589643478393555},\n",
       "   '2': {'Negative': 0.5221530795097351,\n",
       "    'Neutral': 0.4549880623817444,\n",
       "    'Positive': 0.022858841344714165},\n",
       "   '3': {'Negative': 0.03750083968043327,\n",
       "    'Neutral': 0.2324349284172058,\n",
       "    'Positive': 0.7300642728805542},\n",
       "   '4': {'Negative': 0.013107659295201302,\n",
       "    'Neutral': 0.0535711906850338,\n",
       "    'Positive': 0.9333211183547974},\n",
       "   '5': {'Negative': 0.006161110009998083,\n",
       "    'Neutral': 0.024781608954072,\n",
       "    'Positive': 0.9690573215484619},\n",
       "   '6': {'Negative': 0.004373413510620594,\n",
       "    'Neutral': 0.017292015254497528,\n",
       "    'Positive': 0.9783345460891724}},\n",
       "  'mean_score': 0.7937589464709163,\n",
       "  'stdev_score': 0.28548399376779676,\n",
       "  'number_of_scores': 7})"
      ]
     },
     "execution_count": 9,
     "metadata": {},
     "output_type": "execute_result"
    }
   ],
   "source": [
    "dataset[0]"
   ]
  },
  {
   "cell_type": "code",
   "execution_count": 3,
   "metadata": {},
   "outputs": [],
   "source": [
    "ncomments=[]\n",
    "nwords = []\n",
    "for im, d in dataset:\n",
    "    # print(d['comments'])\n",
    "    ncomments.append(len(d['comments']))\n",
    "    nwords.extend([len(x.split()) for x in d['comments']])"
   ]
  },
  {
   "cell_type": "code",
   "execution_count": 8,
   "metadata": {},
   "outputs": [
    {
     "data": {
      "text/plain": [
       "3601761"
      ]
     },
     "execution_count": 8,
     "metadata": {},
     "output_type": "execute_result"
    }
   ],
   "source": [
    "sum(ncomments)"
   ]
  },
  {
   "cell_type": "code",
   "execution_count": 4,
   "metadata": {},
   "outputs": [
    {
     "data": {
      "text/plain": [
       "253961"
      ]
     },
     "execution_count": 4,
     "metadata": {},
     "output_type": "execute_result"
    }
   ],
   "source": [
    "len(dataset)"
   ]
  },
  {
   "cell_type": "code",
   "execution_count": 6,
   "metadata": {},
   "outputs": [
    {
     "data": {
      "text/plain": [
       "count    253961.000000\n",
       "mean         14.182339\n",
       "std          14.602677\n",
       "min           1.000000\n",
       "25%           6.000000\n",
       "50%          10.000000\n",
       "75%          17.000000\n",
       "max         449.000000\n",
       "dtype: float64"
      ]
     },
     "execution_count": 6,
     "metadata": {},
     "output_type": "execute_result"
    }
   ],
   "source": [
    "import pandas as pd\n",
    "pd.Series(ncomments).describe()"
   ]
  },
  {
   "cell_type": "code",
   "execution_count": 7,
   "metadata": {},
   "outputs": [
    {
     "data": {
      "text/plain": [
       "count    3.601761e+06\n",
       "mean     1.462170e+01\n",
       "std      1.688961e+01\n",
       "min      0.000000e+00\n",
       "25%      4.000000e+00\n",
       "50%      1.000000e+01\n",
       "75%      1.900000e+01\n",
       "max      2.146000e+03\n",
       "dtype: float64"
      ]
     },
     "execution_count": 7,
     "metadata": {},
     "output_type": "execute_result"
    }
   ],
   "source": [
    "pd.Series(nwords).describe()"
   ]
  },
  {
   "cell_type": "code",
   "execution_count": 9,
   "metadata": {},
   "outputs": [
    {
     "name": "stderr",
     "output_type": "stream",
     "text": [
      "100%|██████████| 253961/253961 [00:00<00:00, 1253493.14it/s]\n"
     ]
    }
   ],
   "source": [
    "gt_scores, pred_scores = zip(*[(data['im_score'], data['mean_score']) for _, data in tqdm(dataset)])\n",
    "\n"
   ]
  },
  {
   "cell_type": "code",
   "execution_count": 10,
   "metadata": {},
   "outputs": [
    {
     "name": "stdout",
     "output_type": "stream",
     "text": [
      "SRCC = SpearmanrResult(correlation=0.6739702330363183, pvalue=0.0)\n",
      "MSE = 5.9397\n",
      "LCC = (0.6424464694494703, 0.0)\n"
     ]
    }
   ],
   "source": [
    "from scipy import stats\n",
    "import sklearn.metrics as sm\n",
    "\n",
    "pred_scores = [score*10 for score in pred_scores]\n",
    "srcc = stats.spearmanr(gt_scores, pred_scores)\n",
    "print(\"SRCC =\", srcc)\n",
    "mse = round(sm.mean_squared_error(gt_scores, pred_scores), 4)\n",
    "print(\"MSE =\", mse)\n",
    "lcc = stats.pearsonr(gt_scores, pred_scores)\n",
    "print(\"LCC =\", lcc)"
   ]
  },
  {
   "cell_type": "code",
   "execution_count": 11,
   "metadata": {},
   "outputs": [
    {
     "data": {
      "text/html": [
       "<div>\n",
       "<style scoped>\n",
       "    .dataframe tbody tr th:only-of-type {\n",
       "        vertical-align: middle;\n",
       "    }\n",
       "\n",
       "    .dataframe tbody tr th {\n",
       "        vertical-align: top;\n",
       "    }\n",
       "\n",
       "    .dataframe thead th {\n",
       "        text-align: right;\n",
       "    }\n",
       "</style>\n",
       "<table border=\"1\" class=\"dataframe\">\n",
       "  <thead>\n",
       "    <tr style=\"text-align: right;\">\n",
       "      <th></th>\n",
       "      <th>Ground truth</th>\n",
       "      <th>Predicted score</th>\n",
       "    </tr>\n",
       "  </thead>\n",
       "  <tbody>\n",
       "    <tr>\n",
       "      <th>0</th>\n",
       "      <td>6.112903</td>\n",
       "      <td>7.937589</td>\n",
       "    </tr>\n",
       "    <tr>\n",
       "      <th>1</th>\n",
       "      <td>6.593750</td>\n",
       "      <td>8.828905</td>\n",
       "    </tr>\n",
       "    <tr>\n",
       "      <th>2</th>\n",
       "      <td>5.796875</td>\n",
       "      <td>9.539987</td>\n",
       "    </tr>\n",
       "    <tr>\n",
       "      <th>3</th>\n",
       "      <td>5.040984</td>\n",
       "      <td>9.905155</td>\n",
       "    </tr>\n",
       "    <tr>\n",
       "      <th>4</th>\n",
       "      <td>5.943548</td>\n",
       "      <td>9.696896</td>\n",
       "    </tr>\n",
       "    <tr>\n",
       "      <th>...</th>\n",
       "      <td>...</td>\n",
       "      <td>...</td>\n",
       "    </tr>\n",
       "    <tr>\n",
       "      <th>253956</th>\n",
       "      <td>4.439024</td>\n",
       "      <td>4.308670</td>\n",
       "    </tr>\n",
       "    <tr>\n",
       "      <th>253957</th>\n",
       "      <td>5.814050</td>\n",
       "      <td>7.860226</td>\n",
       "    </tr>\n",
       "    <tr>\n",
       "      <th>253958</th>\n",
       "      <td>5.344398</td>\n",
       "      <td>7.022425</td>\n",
       "    </tr>\n",
       "    <tr>\n",
       "      <th>253959</th>\n",
       "      <td>5.893701</td>\n",
       "      <td>9.159501</td>\n",
       "    </tr>\n",
       "    <tr>\n",
       "      <th>253960</th>\n",
       "      <td>6.675573</td>\n",
       "      <td>9.476929</td>\n",
       "    </tr>\n",
       "  </tbody>\n",
       "</table>\n",
       "<p>253961 rows × 2 columns</p>\n",
       "</div>"
      ],
      "text/plain": [
       "        Ground truth  Predicted score\n",
       "0           6.112903         7.937589\n",
       "1           6.593750         8.828905\n",
       "2           5.796875         9.539987\n",
       "3           5.040984         9.905155\n",
       "4           5.943548         9.696896\n",
       "...              ...              ...\n",
       "253956      4.439024         4.308670\n",
       "253957      5.814050         7.860226\n",
       "253958      5.344398         7.022425\n",
       "253959      5.893701         9.159501\n",
       "253960      6.675573         9.476929\n",
       "\n",
       "[253961 rows x 2 columns]"
      ]
     },
     "execution_count": 11,
     "metadata": {},
     "output_type": "execute_result"
    }
   ],
   "source": [
    "df = pd.DataFrame({\n",
    "    \"Ground truth\": gt_scores,\n",
    "    \"Predicted score\": pred_scores\n",
    "    })\n",
    "df"
   ]
  },
  {
   "cell_type": "code",
   "execution_count": 23,
   "metadata": {},
   "outputs": [
    {
     "data": {
      "text/plain": [
       "<AxesSubplot:ylabel='Frequency'>"
      ]
     },
     "execution_count": 23,
     "metadata": {},
     "output_type": "execute_result"
    },
    {
     "data": {
      "image/png": "[encoded data removed]",
      "text/plain": [
       "<Figure size 432x288 with 1 Axes>"
      ]
     },
     "metadata": {
      "needs_background": "light"
     },
     "output_type": "display_data"
    }
   ],
   "source": [
    "import pandas as pd\n",
    "pd.Series([data['mean_score'] for _, data in dataset]).plot(kind='hist', bins=100)\n"
   ]
  },
  {
   "cell_type": "code",
   "execution_count": null,
   "metadata": {},
   "outputs": [],
   "source": []
  }
 ],
 "metadata": {
  "interpreter": {
   "hash": "af2568b77c9ec3f1a0d64b3461c66b289f4d544951ee8b1306f1fdd362419001"
  },
  "kernelspec": {
   "display_name": "Python 3.10.4 ('aestheval')",
   "language": "python",
   "name": "python3"
  },
  "language_info": {
   "codemirror_mode": {
    "name": "ipython",
    "version": 3
   },
   "file_extension": ".py",
   "mimetype": "text/x-python",
   "name": "python",
   "nbconvert_exporter": "python",
   "pygments_lexer": "ipython3",
   "version": "3.10.4"
  },
  "orig_nbformat": 4
 },
 "nbformat": 4,
 "nbformat_minor": 2
}
