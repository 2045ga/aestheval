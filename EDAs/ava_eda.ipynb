{
 "cells": [
  {
   "cell_type": "code",
   "execution_count": 1,
   "metadata": {},
   "outputs": [
    {
     "name": "stderr",
     "output_type": "stream",
     "text": [
      "/home/daniel/anaconda3/envs/aestheval/lib/python3.10/site-packages/torchvision/io/image.py:13: UserWarning: Failed to load image Python extension: /home/daniel/anaconda3/envs/aestheval/lib/python3.10/site-packages/torchvision/image.so: undefined symbol: _ZN5torch3jit17parseSchemaOrNameERKNSt7__cxx1112basic_stringIcSt11char_traitsIcESaIcEEE\n",
      "  warn(f\"Failed to load image Python extension: {e}\")\n"
     ]
    }
   ],
   "source": [
    "from aestheval.data.datasets import AVA\n",
    "import torch\n",
    "from tqdm import tqdm\n",
    "SPLITS = ('train', 'validation', 'test')\n",
    "\n",
    "ava_dataset = [AVA(split, dataset_path=\"/media/data-storage/datasets/ava\", load_images=False) for split in SPLITS]"
   ]
  },
  {
   "cell_type": "code",
   "execution_count": 2,
   "metadata": {},
   "outputs": [],
   "source": [
    "dataset = torch.utils.data.ConcatDataset(ava_dataset)"
   ]
  },
  {
   "cell_type": "code",
   "execution_count": 3,
   "metadata": {},
   "outputs": [
    {
     "data": {
      "text/plain": [
       "(None,\n",
       " {'im_id': '953417',\n",
       "  'im_score': 6.11290322581,\n",
       "  'query': 1396,\n",
       "  'im_name': '953417.jpg',\n",
       "  'comments': [\"6.1! Nice! You have mad macro skills! You'll notice I don't have any... because I suck at it.\",\n",
       "   'Frog with attitude; love it.  Reminds me of Jabba of Star Wars, lol. (voted earlier)',\n",
       "   'he does look kind of lonely. Funky colors.',\n",
       "   \"No thanks, he is quite blue is'nt he, I like this.\",\n",
       "   'great shot!',\n",
       "   'Very cute!',\n",
       "   'Funny shot. Very nice perspective and lovely colors.'],\n",
       "  'sentiment': {0: {'Negative': 0.3295336663722992,\n",
       "    'Neutral': 0.2320113182067871,\n",
       "    'Positive': 0.4384550452232361},\n",
       "   1: {'Negative': 0.005600472446531057,\n",
       "    'Neutral': 0.03543514013290405,\n",
       "    'Positive': 0.9589643478393555},\n",
       "   2: {'Negative': 0.5221530795097351,\n",
       "    'Neutral': 0.4549880623817444,\n",
       "    'Positive': 0.022858841344714165},\n",
       "   3: {'Negative': 0.03750083968043327,\n",
       "    'Neutral': 0.2324349284172058,\n",
       "    'Positive': 0.7300642728805542},\n",
       "   4: {'Negative': 0.013107659295201302,\n",
       "    'Neutral': 0.0535711906850338,\n",
       "    'Positive': 0.9333211183547974},\n",
       "   5: {'Negative': 0.006161110009998083,\n",
       "    'Neutral': 0.024781608954072,\n",
       "    'Positive': 0.9690573215484619},\n",
       "   6: {'Negative': 0.004373413510620594,\n",
       "    'Neutral': 0.017292015254497528,\n",
       "    'Positive': 0.9783345460891724}},\n",
       "  'mean_score': 0.7937589464709163,\n",
       "  'stdev_score': 0.28548399376779676,\n",
       "  'number_of_scores': 7,\n",
       "  'dataset_name': 'ava'})"
      ]
     },
     "execution_count": 3,
     "metadata": {},
     "output_type": "execute_result"
    }
   ],
   "source": [
    "dataset[0]"
   ]
  },
  {
   "cell_type": "code",
   "execution_count": 4,
   "metadata": {},
   "outputs": [],
   "source": [
    "ncomments=[]\n",
    "nwords = []\n",
    "for im, d in dataset:\n",
    "    # print(d['comments'])\n",
    "    ncomments.append(len(d['comments']))\n",
    "    nwords.extend([len(x.split()) for x in d['comments']])"
   ]
  },
  {
   "cell_type": "code",
   "execution_count": 5,
   "metadata": {},
   "outputs": [
    {
     "data": {
      "text/plain": [
       "3354044"
      ]
     },
     "execution_count": 5,
     "metadata": {},
     "output_type": "execute_result"
    }
   ],
   "source": [
    "sum(ncomments)"
   ]
  },
  {
   "cell_type": "code",
   "execution_count": 6,
   "metadata": {},
   "outputs": [
    {
     "data": {
      "text/plain": [
       "253961"
      ]
     },
     "execution_count": 6,
     "metadata": {},
     "output_type": "execute_result"
    }
   ],
   "source": [
    "len(dataset)"
   ]
  },
  {
   "cell_type": "code",
   "execution_count": 7,
   "metadata": {},
   "outputs": [
    {
     "data": {
      "text/plain": [
       "count    253961.000000\n",
       "mean         13.206925\n",
       "std          13.129594\n",
       "min           1.000000\n",
       "25%           6.000000\n",
       "50%          10.000000\n",
       "75%          16.000000\n",
       "max         367.000000\n",
       "dtype: float64"
      ]
     },
     "execution_count": 7,
     "metadata": {},
     "output_type": "execute_result"
    }
   ],
   "source": [
    "import pandas as pd\n",
    "pd.Series(ncomments).describe()"
   ]
  },
  {
   "cell_type": "code",
   "execution_count": 8,
   "metadata": {},
   "outputs": [
    {
     "data": {
      "text/plain": [
       "<AxesSubplot:>"
      ]
     },
     "execution_count": 8,
     "metadata": {},
     "output_type": "execute_result"
    },
    {
     "data": {
      "image/png": "[encoded data removed]",
      "text/plain": [
       "<Figure size 432x288 with 1 Axes>"
      ]
     },
     "metadata": {
      "needs_background": "light"
     },
     "output_type": "display_data"
    }
   ],
   "source": [
    "pd.Series(ncomments).hist(bins=100)"
   ]
  },
  {
   "cell_type": "code",
   "execution_count": 9,
   "metadata": {},
   "outputs": [
    {
     "name": "stdout",
     "output_type": "stream",
     "text": [
      "count    3.354044e+06\n",
      "mean     1.570160e+01\n",
      "std      1.701090e+01\n",
      "min      1.000000e+00\n",
      "25%      5.000000e+00\n",
      "50%      1.100000e+01\n",
      "75%      2.000000e+01\n",
      "max      2.146000e+03\n",
      "dtype: float64\n"
     ]
    },
    {
     "data": {
      "text/plain": [
       "<AxesSubplot:>"
      ]
     },
     "execution_count": 9,
     "metadata": {},
     "output_type": "execute_result"
    },
    {
     "data": {
      "image/png": "[encoded data removed]",
      "text/plain": [
       "<Figure size 432x288 with 1 Axes>"
      ]
     },
     "metadata": {
      "needs_background": "light"
     },
     "output_type": "display_data"
    }
   ],
   "source": [
    "print(pd.Series(nwords).describe())\n",
    "pd.Series(nwords).hist(bins=100)"
   ]
  },
  {
   "cell_type": "code",
   "execution_count": 10,
   "metadata": {},
   "outputs": [
    {
     "name": "stderr",
     "output_type": "stream",
     "text": [
      "100%|██████████| 253961/253961 [00:00<00:00, 1475816.35it/s]\n"
     ]
    }
   ],
   "source": [
    "gt_scores, pred_scores = zip(*[(data['im_score'], data['mean_score']) for _, data in tqdm(dataset)])\n",
    "\n"
   ]
  },
  {
   "cell_type": "code",
   "execution_count": 11,
   "metadata": {},
   "outputs": [
    {
     "name": "stdout",
     "output_type": "stream",
     "text": [
      "SRCC = SpearmanrResult(correlation=0.632223967720835, pvalue=0.0)\n",
      "MSE = 5.9397\n",
      "LCC = (0.6424464694494703, 0.0)\n"
     ]
    }
   ],
   "source": [
    "from scipy import stats\n",
    "import sklearn.metrics as sm\n",
    "\n",
    "pred_scores = [score*10 for score in pred_scores]\n",
    "srcc = stats.spearmanr(gt_scores, pred_scores)\n",
    "print(\"SRCC =\", srcc)\n",
    "mse = round(sm.mean_squared_error(gt_scores, pred_scores), 4)\n",
    "print(\"MSE =\", mse)\n",
    "lcc = stats.pearsonr(gt_scores, pred_scores)\n",
    "print(\"LCC =\", lcc)"
   ]
  },
  {
   "cell_type": "code",
   "execution_count": 12,
   "metadata": {},
   "outputs": [
    {
     "data": {
      "text/html": [
       "<div>\n",
       "<style scoped>\n",
       "    .dataframe tbody tr th:only-of-type {\n",
       "        vertical-align: middle;\n",
       "    }\n",
       "\n",
       "    .dataframe tbody tr th {\n",
       "        vertical-align: top;\n",
       "    }\n",
       "\n",
       "    .dataframe thead th {\n",
       "        text-align: right;\n",
       "    }\n",
       "</style>\n",
       "<table border=\"1\" class=\"dataframe\">\n",
       "  <thead>\n",
       "    <tr style=\"text-align: right;\">\n",
       "      <th></th>\n",
       "      <th>Ground truth</th>\n",
       "      <th>Predicted score</th>\n",
       "    </tr>\n",
       "  </thead>\n",
       "  <tbody>\n",
       "    <tr>\n",
       "      <th>0</th>\n",
       "      <td>6.112903</td>\n",
       "      <td>7.937589</td>\n",
       "    </tr>\n",
       "    <tr>\n",
       "      <th>1</th>\n",
       "      <td>6.593750</td>\n",
       "      <td>8.828905</td>\n",
       "    </tr>\n",
       "    <tr>\n",
       "      <th>2</th>\n",
       "      <td>5.796875</td>\n",
       "      <td>9.539987</td>\n",
       "    </tr>\n",
       "    <tr>\n",
       "      <th>3</th>\n",
       "      <td>5.040984</td>\n",
       "      <td>9.905155</td>\n",
       "    </tr>\n",
       "    <tr>\n",
       "      <th>4</th>\n",
       "      <td>5.943548</td>\n",
       "      <td>9.696896</td>\n",
       "    </tr>\n",
       "    <tr>\n",
       "      <th>...</th>\n",
       "      <td>...</td>\n",
       "      <td>...</td>\n",
       "    </tr>\n",
       "    <tr>\n",
       "      <th>253956</th>\n",
       "      <td>4.439024</td>\n",
       "      <td>4.308670</td>\n",
       "    </tr>\n",
       "    <tr>\n",
       "      <th>253957</th>\n",
       "      <td>5.814050</td>\n",
       "      <td>7.860226</td>\n",
       "    </tr>\n",
       "    <tr>\n",
       "      <th>253958</th>\n",
       "      <td>5.344398</td>\n",
       "      <td>7.022425</td>\n",
       "    </tr>\n",
       "    <tr>\n",
       "      <th>253959</th>\n",
       "      <td>5.893701</td>\n",
       "      <td>9.159501</td>\n",
       "    </tr>\n",
       "    <tr>\n",
       "      <th>253960</th>\n",
       "      <td>6.675573</td>\n",
       "      <td>9.476929</td>\n",
       "    </tr>\n",
       "  </tbody>\n",
       "</table>\n",
       "<p>253961 rows × 2 columns</p>\n",
       "</div>"
      ],
      "text/plain": [
       "        Ground truth  Predicted score\n",
       "0           6.112903         7.937589\n",
       "1           6.593750         8.828905\n",
       "2           5.796875         9.539987\n",
       "3           5.040984         9.905155\n",
       "4           5.943548         9.696896\n",
       "...              ...              ...\n",
       "253956      4.439024         4.308670\n",
       "253957      5.814050         7.860226\n",
       "253958      5.344398         7.022425\n",
       "253959      5.893701         9.159501\n",
       "253960      6.675573         9.476929\n",
       "\n",
       "[253961 rows x 2 columns]"
      ]
     },
     "execution_count": 12,
     "metadata": {},
     "output_type": "execute_result"
    }
   ],
   "source": [
    "df = pd.DataFrame({\n",
    "    \"Ground truth\": gt_scores,\n",
    "    \"Predicted score\": pred_scores\n",
    "    })\n",
    "df"
   ]
  },
  {
   "cell_type": "code",
   "execution_count": 25,
   "metadata": {},
   "outputs": [
    {
     "name": "stdout",
     "output_type": "stream",
     "text": [
      "count    253961.000000\n",
      "mean          0.741391\n",
      "std           0.169991\n",
      "min           0.025458\n",
      "25%           0.637067\n",
      "50%           0.772274\n",
      "75%           0.874148\n",
      "max           0.993714\n",
      "dtype: float64\n"
     ]
    },
    {
     "data": {
      "text/plain": [
       "<AxesSubplot:ylabel='Frequency'>"
      ]
     },
     "execution_count": 25,
     "metadata": {},
     "output_type": "execute_result"
    },
    {
     "data": {
      "image/png": "[encoded data removed]",
      "text/plain": [
       "<Figure size 432x288 with 1 Axes>"
      ]
     },
     "metadata": {
      "needs_background": "light"
     },
     "output_type": "display_data"
    }
   ],
   "source": [
    "import pandas as pd\n",
    "s = pd.Series([data['mean_score'] for _, data in dataset])\n",
    "print(s.describe())\n",
    "s.plot(kind='hist', bins=100)\n"
   ]
  },
  {
   "cell_type": "markdown",
   "metadata": {},
   "source": [
    "**NOTE**: Sentiment score scale is [0,1] and ava original score scale is [0,10]"
   ]
  },
  {
   "cell_type": "code",
   "execution_count": 22,
   "metadata": {},
   "outputs": [
    {
     "name": "stdout",
     "output_type": "stream",
     "text": [
      "count    253961.000000\n",
      "mean          5.385840\n",
      "std           0.732089\n",
      "min           1.808989\n",
      "25%           4.913858\n",
      "50%           5.390476\n",
      "75%           5.868932\n",
      "max           8.600000\n",
      "dtype: float64\n"
     ]
    },
    {
     "data": {
      "text/plain": [
       "<AxesSubplot:ylabel='Frequency'>"
      ]
     },
     "execution_count": 22,
     "metadata": {},
     "output_type": "execute_result"
    },
    {
     "data": {
      "image/png": "[encoded data removed]",
      "text/plain": [
       "<Figure size 432x288 with 1 Axes>"
      ]
     },
     "metadata": {
      "needs_background": "light"
     },
     "output_type": "display_data"
    }
   ],
   "source": [
    "# original ava score\n",
    "s = pd.Series([data['im_score'] for _, data in dataset])\n",
    "print(s.describe())\n",
    "s.plot(kind='hist', bins=100)\n"
   ]
  },
  {
   "cell_type": "code",
   "execution_count": 24,
   "metadata": {},
   "outputs": [
    {
     "name": "stdout",
     "output_type": "stream",
     "text": [
      "count    253961.000000\n",
      "mean          0.243858\n",
      "std           0.110952\n",
      "min           0.000000\n",
      "25%           0.180615\n",
      "50%           0.261050\n",
      "75%           0.320977\n",
      "max           0.679175\n",
      "dtype: float64\n"
     ]
    },
    {
     "data": {
      "text/plain": [
       "<AxesSubplot:ylabel='Frequency'>"
      ]
     },
     "execution_count": 24,
     "metadata": {},
     "output_type": "execute_result"
    },
    {
     "data": {
      "image/png": "[encoded data removed]",
      "text/plain": [
       "<Figure size 432x288 with 1 Axes>"
      ]
     },
     "metadata": {
      "needs_background": "light"
     },
     "output_type": "display_data"
    }
   ],
   "source": [
    "# stdev of sentiment score\n",
    "\n",
    "s = pd.Series([data['stdev_score'] for _, data in dataset])\n",
    "print(s.describe())\n",
    "s.plot(kind='hist', bins=100)\n"
   ]
  },
  {
   "cell_type": "code",
   "execution_count": 26,
   "metadata": {},
   "outputs": [
    {
     "name": "stdout",
     "output_type": "stream",
     "text": [
      "count    253961.000000\n",
      "mean         13.206925\n",
      "std          13.129594\n",
      "min           1.000000\n",
      "25%           6.000000\n",
      "50%          10.000000\n",
      "75%          16.000000\n",
      "max         367.000000\n",
      "dtype: float64\n"
     ]
    },
    {
     "data": {
      "text/plain": [
       "<AxesSubplot:ylabel='Frequency'>"
      ]
     },
     "execution_count": 26,
     "metadata": {},
     "output_type": "execute_result"
    },
    {
     "data": {
      "image/png": "[encoded data removed]",
      "text/plain": [
       "<Figure size 432x288 with 1 Axes>"
      ]
     },
     "metadata": {
      "needs_background": "light"
     },
     "output_type": "display_data"
    }
   ],
   "source": [
    "# Number of sentiment scores\n",
    "s = pd.Series([data['number_of_scores'] for _, data in dataset])\n",
    "print(s.describe())\n",
    "s.plot(kind='hist', bins=100)\n",
    "\n"
   ]
  }
 ],
 "metadata": {
  "interpreter": {
   "hash": "af2568b77c9ec3f1a0d64b3461c66b289f4d544951ee8b1306f1fdd362419001"
  },
  "kernelspec": {
   "display_name": "Python 3.10.4 ('aestheval')",
   "language": "python",
   "name": "python3"
  },
  "language_info": {
   "codemirror_mode": {
    "name": "ipython",
    "version": 3
   },
   "file_extension": ".py",
   "mimetype": "text/x-python",
   "name": "python",
   "nbconvert_exporter": "python",
   "pygments_lexer": "ipython3",
   "version": "3.10.4"
  },
  "orig_nbformat": 4
 },
 "nbformat": 4,
 "nbformat_minor": 2
}
