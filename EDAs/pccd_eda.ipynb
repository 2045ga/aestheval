{
 "cells": [
  {
   "cell_type": "code",
   "execution_count": 1,
   "metadata": {},
   "outputs": [
    {
     "name": "stderr",
     "output_type": "stream",
     "text": [
      "/home/daniel/anaconda3/envs/aestheval/lib/python3.10/site-packages/torchvision/io/image.py:13: UserWarning: Failed to load image Python extension: /home/daniel/anaconda3/envs/aestheval/lib/python3.10/site-packages/torchvision/image.so: undefined symbol: _ZN5torch3jit17parseSchemaOrNameERKNSt7__cxx1112basic_stringIcSt11char_traitsIcESaIcEEE\n",
      "  warn(f\"Failed to load image Python extension: {e}\")\n"
     ]
    }
   ],
   "source": [
    "from aestheval.data.datasets import PCCD\n",
    "import torch\n",
    "SPLITS = ('train', 'validation', 'test')\n",
    "\n",
    "pccd_dataset = [PCCD(split, dataset_path= \"/media/data-storage/datasets/PCCD\",load_images=False) for split in SPLITS]"
   ]
  },
  {
   "cell_type": "code",
   "execution_count": 2,
   "metadata": {},
   "outputs": [],
   "source": [
    "dataset = torch.utils.data.ConcatDataset(pccd_dataset)"
   ]
  },
  {
   "cell_type": "code",
   "execution_count": 3,
   "metadata": {},
   "outputs": [
    {
     "data": {
      "text/plain": [
       "(None,\n",
       " {'general_impression': 'Hello Mickel,Indoor sports is tough but you made a good start with this. At least (and perhaps most importantly) you had good timing. The rest can be learned but your good instincts are right on.',\n",
       "  'subject_of_photo': 'Sports photography is a terrific subject and you picked a dandy one here but...',\n",
       "  'composition': \"I photograph indoor basketball quite a bit so I'm familiar with the limitations of the court. You were in a good position for this photograph to be made. The horizon line is level and the framing is balanced.\",\n",
       "  'use_of_camera': \"Faster shutter speed. Longer lens. F/stop of 5.6 is OK. Higher ISO. Specific white balance.Faster shutter speed will help you freeze the moment. You'll need to increase the light sensitivity setting to accomplish this without use of a flash. I am usually set to ISO 2500, 3200 and 5000. Even at ISO 2500 you're new shutter speed would be 1/200. The shallow depth of field (f/5.6) is appropriate and will help isolate clarity around the subject. (in this case the girl spiking the ball)With a mixed lighting situation, shoot test frames beforehand and set the white balance dial to all the settings and pick the one most pleasing.\",\n",
       "  'depth_of_field': 'If you had a longer focal length lens, (80mm or longer) the f/stop of 5.6 would have been OK. This is a tough one because of the wide angle perspective. Framing a bit tighter, (zoom in a bit there is wasted space on top and both sides) keeping everything the same would have also helped.',\n",
       "  'color_lighting': 'As is, the light and color is a bit dark and cool. Adding a flash would improve the color and bring emphasis to the girl. Learning how to use the manual exposure mode for these types of challenging lighting situations is a must for the meter is often fooled and will provide an inappropriate exposure...this one is too dark.',\n",
       "  'focus': \"Here's where you can really affect the outcome of a photograph. We can see what is happening in the scene but because of the lack of sharp focus on the main subject, we are left looking at everything equally. Read on for some technical tips....\",\n",
       "  'description': 'i need some advise in combination and subject arrangement',\n",
       "  'im_name': '21_torres-attack',\n",
       "  'score': [5, 10, 8, 6, 5, 6, 7],\n",
       "  'category': 'sport-photography',\n",
       "  'sentiment': {0: {'Negative': 0.016319362446665764,\n",
       "    'Neutral': 0.0744885504245758,\n",
       "    'Positive': 0.9091920852661133},\n",
       "   1: {'Negative': 0.04744536057114601,\n",
       "    'Neutral': 0.18040986359119415,\n",
       "    'Positive': 0.7721447348594666},\n",
       "   2: {'Negative': 0.01508952584117651,\n",
       "    'Neutral': 0.322189599275589,\n",
       "    'Positive': 0.6627208590507507},\n",
       "   3: {'Negative': 0.022031374275684357,\n",
       "    'Neutral': 0.643500566482544,\n",
       "    'Positive': 0.3344680666923523},\n",
       "   4: {'Negative': 0.07975203543901443,\n",
       "    'Neutral': 0.6590155363082886,\n",
       "    'Positive': 0.2612324059009552},\n",
       "   5: {'Negative': 0.1519407480955124,\n",
       "    'Neutral': 0.6701632738113403,\n",
       "    'Positive': 0.17789596319198608},\n",
       "   6: {'Negative': 0.12603214383125305,\n",
       "    'Neutral': 0.7813178300857544,\n",
       "    'Positive': 0.09265008568763733}},\n",
       "  'mean_score': 0.6965495443769864,\n",
       "  'stdev_score': 0.18171506153635572,\n",
       "  'number_of_scores': 7,\n",
       "  'comments': ['Hello Mickel,Indoor sports is tough but you made a good start with this. At least (and perhaps most importantly) you had good timing. The rest can be learned but your good instincts are right on.',\n",
       "   'Sports photography is a terrific subject and you picked a dandy one here but...',\n",
       "   \"I photograph indoor basketball quite a bit so I'm familiar with the limitations of the court. You were in a good position for this photograph to be made. The horizon line is level and the framing is balanced.\",\n",
       "   \"Faster shutter speed. Longer lens. F/stop of 5.6 is OK. Higher ISO. Specific white balance.Faster shutter speed will help you freeze the moment. You'll need to increase the light sensitivity setting to accomplish this without use of a flash. I am usually set to ISO 2500, 3200 and 5000. Even at ISO 2500 you're new shutter speed would be 1/200. The shallow depth of field (f/5.6) is appropriate and will help isolate clarity around the subject. (in this case the girl spiking the ball)With a mixed lighting situation, shoot test frames beforehand and set the white balance dial to all the settings and pick the one most pleasing.\",\n",
       "   'If you had a longer focal length lens, (80mm or longer) the f/stop of 5.6 would have been OK. This is a tough one because of the wide angle perspective. Framing a bit tighter, (zoom in a bit there is wasted space on top and both sides) keeping everything the same would have also helped.',\n",
       "   'As is, the light and color is a bit dark and cool. Adding a flash would improve the color and bring emphasis to the girl. Learning how to use the manual exposure mode for these types of challenging lighting situations is a must for the meter is often fooled and will provide an inappropriate exposure...this one is too dark.',\n",
       "   \"Here's where you can really affect the outcome of a photograph. We can see what is happening in the scene but because of the lack of sharp focus on the main subject, we are left looking at everything equally. Read on for some technical tips....\"],\n",
       "  'dataset_name': 'pccd'})"
      ]
     },
     "execution_count": 3,
     "metadata": {},
     "output_type": "execute_result"
    }
   ],
   "source": [
    "dataset[0]"
   ]
  },
  {
   "cell_type": "code",
   "execution_count": 4,
   "metadata": {},
   "outputs": [
    {
     "data": {
      "text/plain": [
       "4235"
      ]
     },
     "execution_count": 4,
     "metadata": {},
     "output_type": "execute_result"
    }
   ],
   "source": [
    "len(dataset)"
   ]
  },
  {
   "cell_type": "code",
   "execution_count": 5,
   "metadata": {},
   "outputs": [
    {
     "data": {
      "text/plain": [
       "['general_impression',\n",
       " 'subject_of_photo',\n",
       " 'composition',\n",
       " 'use_of_camera',\n",
       " 'depth_of_field',\n",
       " 'color_lighting',\n",
       " 'focus']"
      ]
     },
     "execution_count": 5,
     "metadata": {},
     "output_type": "execute_result"
    }
   ],
   "source": [
    "keys = dataset.datasets[0].attributes\n",
    "keys"
   ]
  },
  {
   "cell_type": "code",
   "execution_count": 6,
   "metadata": {},
   "outputs": [
    {
     "data": {
      "text/plain": [
       "count    4235.000000\n",
       "mean        6.628099\n",
       "std         0.647523\n",
       "min         4.000000\n",
       "25%         6.000000\n",
       "50%         7.000000\n",
       "75%         7.000000\n",
       "max         7.000000\n",
       "dtype: float64"
      ]
     },
     "execution_count": 6,
     "metadata": {},
     "output_type": "execute_result"
    }
   ],
   "source": [
    "ncomments=[]\n",
    "nwords = []\n",
    "for im, d in dataset:\n",
    "    # print(d)\n",
    "    comments = [d[k] for k in keys if d[k]]\n",
    "    ncomments.append(len(comments))\n",
    "    nwords.extend([len(x.split()) for x in comments])\n",
    "import pandas as pd\n",
    "pd.Series(ncomments).describe()"
   ]
  },
  {
   "cell_type": "code",
   "execution_count": 7,
   "metadata": {},
   "outputs": [
    {
     "data": {
      "text/plain": [
       "count    28070.000000\n",
       "mean        41.097186\n",
       "std         41.656863\n",
       "min          1.000000\n",
       "25%         14.000000\n",
       "50%         30.000000\n",
       "75%         55.000000\n",
       "max        780.000000\n",
       "dtype: float64"
      ]
     },
     "execution_count": 7,
     "metadata": {},
     "output_type": "execute_result"
    }
   ],
   "source": [
    "pd.Series(nwords).describe()"
   ]
  },
  {
   "cell_type": "code",
   "execution_count": 8,
   "metadata": {},
   "outputs": [
    {
     "name": "stderr",
     "output_type": "stream",
     "text": [
      "100%|██████████| 4235/4235 [00:00<00:00, 128724.90it/s]\n"
     ]
    }
   ],
   "source": [
    "import statistics as st\n",
    "from tqdm import tqdm \n",
    "\n",
    "def compute_mean(list_of_scores):\n",
    "    good_scores = []\n",
    "    for i in list_of_scores:\n",
    "        try:\n",
    "            good_scores.append(int(i))\n",
    "        except:\n",
    "            continue\n",
    "    return st.mean(good_scores)\n",
    "\n",
    "gt_scores, pred_scores = zip(*[(compute_mean(data['score']), data['mean_score']) for _, data in tqdm(dataset)])\n",
    "\n"
   ]
  },
  {
   "cell_type": "code",
   "execution_count": 9,
   "metadata": {},
   "outputs": [
    {
     "name": "stdout",
     "output_type": "stream",
     "text": [
      "SRCC = SpearmanrResult(correlation=0.6095497059536509, pvalue=0.0)\n",
      "MSE = 1.5729\n",
      "LCC = (0.6499357318742438, 0.0)\n"
     ]
    }
   ],
   "source": [
    "from scipy import stats\n",
    "import sklearn.metrics as sm\n",
    "\n",
    "srcc = stats.spearmanr(gt_scores, pred_scores)\n",
    "print(\"SRCC =\", srcc)\n",
    "mse = round(sm.mean_squared_error(gt_scores, [score*10 for score in pred_scores]), 4)\n",
    "print(\"MSE =\", mse)\n",
    "lcc = stats.pearsonr(gt_scores, pred_scores)\n",
    "print(\"LCC =\", lcc)"
   ]
  },
  {
   "cell_type": "code",
   "execution_count": 10,
   "metadata": {},
   "outputs": [
    {
     "data": {
      "image/png": "[encoded data removed]",
      "text/plain": [
       "<Figure size 360x360 with 1 Axes>"
      ]
     },
     "metadata": {
      "needs_background": "light"
     },
     "output_type": "display_data"
    }
   ],
   "source": [
    "import pandas as pd\n",
    "df = pd.DataFrame({\n",
    "    \"Ground truth\": gt_scores,\n",
    "    \"Predicted score\": pred_scores\n",
    "    })\n",
    "import seaborn as sns\n",
    "ax = sns.lmplot(x=\"Ground truth\", y=\"Predicted score\", data=df, x_bins=1000)\n"
   ]
  },
  {
   "cell_type": "code",
   "execution_count": 11,
   "metadata": {},
   "outputs": [
    {
     "data": {
      "text/plain": [
       "<AxesSubplot:ylabel='Frequency'>"
      ]
     },
     "execution_count": 11,
     "metadata": {},
     "output_type": "execute_result"
    },
    {
     "data": {
      "image/png": "[encoded data removed]",
      "text/plain": [
       "<Figure size 640x480 with 1 Axes>"
      ]
     },
     "metadata": {},
     "output_type": "display_data"
    }
   ],
   "source": [
    "import pandas as pd\n",
    "pd.Series([data['mean_score'] for _, data in dataset]).plot(kind='hist', bins=100)\n"
   ]
  },
  {
   "cell_type": "code",
   "execution_count": 13,
   "metadata": {},
   "outputs": [
    {
     "data": {
      "text/plain": [
       "<AxesSubplot:ylabel='Frequency'>"
      ]
     },
     "execution_count": 13,
     "metadata": {},
     "output_type": "execute_result"
    },
    {
     "data": {
      "image/png": "[encoded data removed]",
      "text/plain": [
       "<Figure size 640x480 with 1 Axes>"
      ]
     },
     "metadata": {},
     "output_type": "display_data"
    }
   ],
   "source": [
    "pd.Series([data['stdev_score'] for _, data in dataset]).plot(kind='hist', bins=100)\n"
   ]
  },
  {
   "cell_type": "code",
   "execution_count": null,
   "metadata": {},
   "outputs": [],
   "source": []
  }
 ],
 "metadata": {
  "interpreter": {
   "hash": "af2568b77c9ec3f1a0d64b3461c66b289f4d544951ee8b1306f1fdd362419001"
  },
  "kernelspec": {
   "display_name": "Python 3.10.4 ('aestheval')",
   "language": "python",
   "name": "python3"
  },
  "language_info": {
   "codemirror_mode": {
    "name": "ipython",
    "version": 3
   },
   "file_extension": ".py",
   "mimetype": "text/x-python",
   "name": "python",
   "nbconvert_exporter": "python",
   "pygments_lexer": "ipython3",
   "version": "3.10.4"
  },
  "orig_nbformat": 4
 },
 "nbformat": 4,
 "nbformat_minor": 2
}
